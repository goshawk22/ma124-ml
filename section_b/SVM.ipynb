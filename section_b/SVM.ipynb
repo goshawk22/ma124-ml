{
 "cells": [
  {
   "cell_type": "markdown",
   "id": "575b2cee-28a8-49ae-b5c4-94925dbdeaeb",
   "metadata": {},
   "source": [
    "# Support Vector Machines\n",
    "\n",
    "This model is used primarily for classification problems where there is a relatively small dataset.\n",
    "For example, they can be used to classify images, text and have various biological uses.\n",
    "\n",
    "The general idea is that you find the optimal hyperplane that seperates the data into different classes. Obviously this works best when there are few outliers.\n",
    "\n",
    "SVMs can be extended to be non-linear."
   ]
  },
  {
   "cell_type": "code",
   "execution_count": null,
   "id": "393a58c3-d63a-4dd0-98db-23583f481980",
   "metadata": {},
   "outputs": [],
   "source": []
  }
 ],
 "metadata": {
  "kernelspec": {
   "display_name": "Python 3 (ipykernel)",
   "language": "python",
   "name": "python3"
  },
  "language_info": {
   "codemirror_mode": {
    "name": "ipython",
    "version": 3
   },
   "file_extension": ".py",
   "mimetype": "text/x-python",
   "name": "python",
   "nbconvert_exporter": "python",
   "pygments_lexer": "ipython3",
   "version": "3.11.5"
  }
 },
 "nbformat": 4,
 "nbformat_minor": 5
}
