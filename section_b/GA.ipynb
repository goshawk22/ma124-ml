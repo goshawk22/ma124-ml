{
 "cells": [
  {
   "cell_type": "markdown",
   "id": "6a470262-ea08-4033-a632-feee98920aa3",
   "metadata": {},
   "source": [
    "# Genetic Algorithms\n",
    "\n",
    "Genetic Algorithms are based on the ideas of natural selection. They are primarily used for optimisation and search problems.\n",
    "Generally, they use three \"biological\" operators: mutation, crossover and selection.\n",
    "\n",
    "A genetic algorithm requires\n",
    "- a representation of all the \"organisms\" in a population\n",
    "- a fitness function\n",
    "\n",
    "A general outline of the algorithm is as follows:\n",
    "1. Initialise a random population\n",
    "2. Selection of \"organisms\" to reproduce\n",
    "3. Apply genetic operators\n",
    "4. Termination\n",
    "\n",
    "Steps 2 and 3 are repeated until an acceptable solution is found.\n",
    "\n",
    "## Applications\n",
    "Genetic algorithms can be applied to various problems, such as timetabling and scheduling, the travelling salesman problem, solving sudokus and hyperperameter optimisation.\n",
    "\n",
    "Ideas such as elitism can be used to further improve genetic algorithms, however they do have some limitations.\n",
    "\n",
    "- They rely heavily on the fitness function to evaluate each solution\n",
    "- They have a tendency to converge to a local optima\n",
    "- They don't scale well with complexity"
   ]
  },
  {
   "cell_type": "code",
   "execution_count": null,
   "id": "a37aed77-c3ed-43a3-82ef-de4c4591c1e4",
   "metadata": {},
   "outputs": [],
   "source": []
  }
 ],
 "metadata": {
  "kernelspec": {
   "display_name": "Python 3 (ipykernel)",
   "language": "python",
   "name": "python3"
  },
  "language_info": {
   "codemirror_mode": {
    "name": "ipython",
    "version": 3
   },
   "file_extension": ".py",
   "mimetype": "text/x-python",
   "name": "python",
   "nbconvert_exporter": "python",
   "pygments_lexer": "ipython3",
   "version": "3.11.5"
  }
 },
 "nbformat": 4,
 "nbformat_minor": 5
}
