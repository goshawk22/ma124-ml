{
 "cells": [
  {
   "cell_type": "markdown",
   "id": "488ad02d-bcd5-4ceb-bf93-52f5943d9c7a",
   "metadata": {},
   "source": [
    "## A4 - Build a hidden layer Neural Network\n",
    "\n",
    "You are now going to build a full Neural Network with one hidden layer. This will allow to model to learn more complex decision boundaries and not just linear ones. This will result in an improved model compared to that you obtained in task A3. \n",
    "\n",
    "In practice you are going to repeat all the steps of task A3 but this time with an extra layer to the network. Set the hidden layer to have 4 neurons (in the code this dimension is denoted `n_h`). You may find it helpful to refer to the project lecture when you are completing this section.\n",
    "\n",
    "The forward propagation has the form `linear`->`tanh`->`linear`->`sigmoid`. So this will take the form below where $W$ and $T$ are appropriately sized matrices containing weights and $b$ and $c$ are appropriately sized column vectors for the biases (some of the dimensions of these objects will now depend on `n_h`). The input matrix $X$ is the same as in task A3, $z$, $a$, $v$ give intermediate output with $\\hat y$ the final output.\n",
    "\n",
    "$$\n",
    "z = W\\cdot X + b \\\\\n",
    "a = \\tanh(z) \\\\\n",
    "v = T \\cdot a + c \\\\\n",
    "\\hat y = \\sigma(v)\n",
    "$$\n",
    "\n",
    "The code for the new backward propogation function, in this notation, is as follows and you can cut and paste this into your code as appropriate.\n",
    "\n",
    "`dv = y_hat - y\n",
    "dT = np.dot(dv, a.T)/m\n",
    "dc = np.sum(dv, axis=1, keepdims=True)/m\n",
    "dz = np.dot(T.T, dv) * (1 - np.power(a, 2))\n",
    "dW = np.dot(dz, X.T)/m\n",
    "db = np.sum(dz, axis=1, keepdims=True)/m`"
   ]
  },
  {
   "cell_type": "markdown",
   "id": "6d733b37-09bd-4ace-862b-87da81fca719",
   "metadata": {},
   "source": [
    "The cost is the same as for logistic regression, so there is no need to implement it again."
   ]
  },
  {
   "cell_type": "markdown",
   "id": "b3d6d75f-9f00-4a2a-b7ed-06e1dd533b55",
   "metadata": {},
   "source": [
    "#### Neural Network Model\n",
    "\n",
    "Below gives a basic structure for your final model, you need to build all the helper functions from scratch this time.\n",
    "\n",
    "**Specifically, using an approach similar to that seen in A3, you should**\n",
    "\n",
    "- Complete the function below `model_nn`, including all the necessary helper functions.\n",
    "- Include a function `predict` which takes in the dictionary of paremeters and input data 'X' and returns predictions of the labels for each example.\n",
    "- Produce a visualisation of the regions of the plane predicted to be red/blue by your model and the original data.\n",
    "- Calculate and print the accuracy of the model (the percentage of points for which the model predicts the correct label).\n",
    "- Make some comments, in a markdown cell, which compare the model developed in A3 to the model developed in A4.\n",
    "\n",
    "**You may use code from Task A3 here but be careful to rename functions and variables as appropriate to avoid clashes with any values established for this notebook in Task A3.**\n",
    "\n",
    "*Edit the code cell below and insert further code and markdown cells in which to answer this task*"
   ]
  },
  {
   "cell_type": "code",
   "execution_count": null,
   "id": "11cc6f9c-660a-42e2-846c-391f0ad83c7a",
   "metadata": {},
   "outputs": [],
   "source": [
    "def model_nn(X, y, n_h = 4, num_iterations = 10000, print_cost=False):\n",
    "    \"\"\"\n",
    "    Arguments:\n",
    "    X -- numpy array, input data\n",
    "    y -- numpy array, true labels\n",
    "    n_h -- integer, number of neurons in the hidden layer\n",
    "    num_iterations -- number of iterations in the gradient descent loop\n",
    "    print_cost -- if True, print the cost every 1000 iterations\n",
    "\n",
    "    Returns:\n",
    "    parameters -- optimized parameters learnt by the model.\n",
    "    \"\"\"\n",
    "    # Optional: to control the random seed of the initialization uncomment next line\n",
    "    # np.random.seed(3)\n",
    "\n",
    "    # retrieve n_x and n_y\n",
    "\n",
    "    # Initialize parameters\n",
    "\n",
    "    # Training loop\n",
    "    for i in range(0, num_iterations):\n",
    "\n",
    "        # Forward propagation\n",
    "\n",
    "        # Compute cost\n",
    "\n",
    "        # Backpropagation\n",
    "\n",
    "        # Update parameters\n",
    "\n",
    "        # Print the cost every 1000 iterations\n",
    "        if print_cost and i % 1000 == 0:\n",
    "            print (\"Cost after iteration %i: %f\" %(i, cost))\n",
    "\n",
    "    return learned_parameters"
   ]
  }
 ],
 "metadata": {
  "kernelspec": {
   "display_name": "Python 3 (ipykernel)",
   "language": "python",
   "name": "python3"
  },
  "language_info": {
   "codemirror_mode": {
    "name": "ipython",
    "version": 3
   },
   "file_extension": ".py",
   "mimetype": "text/x-python",
   "name": "python",
   "nbconvert_exporter": "python",
   "pygments_lexer": "ipython3",
   "version": "3.11.5"
  }
 },
 "nbformat": 4,
 "nbformat_minor": 5
}
