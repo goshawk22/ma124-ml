{
 "cells": [
  {
   "cell_type": "markdown",
   "id": "3a13413c-a193-4a87-a416-5c664aa72312",
   "metadata": {
    "tags": []
   },
   "source": [
    "### Task A2 Linear Regression, on a very small dataset, from scratch with only numpy\n",
    "#### (illustrating idea of rates of change with respect to the model parameters and gradient descent)\n",
    "\n",
    "Consider a really small dataset consisting of only three points in the plane: $(1,1),(2,4),(3,5)$.\n",
    "\n",
    "For each point (training example) consider the $x$-coordinate as a single input feature, and the $y$-coordinate as the output or label of the example. The objective is to find the best line to fit these data. Here 'best' will mean the line which minimises the mean of the sum of the squares of the residuals with respect to the three points.\n",
    "\n",
    "In this task and in the following tasks A3 and A4 we will use a slightly different convention to store our data with respect to the one used in A1 or the lectures. $X_{\\text{train}}$ and $y_{\\text{train}}$ will now be the transpose of the corresponding matrices in A1. In A3 and A4 this will be a more convenient form for applying functions given by matrices to the data with the matrix on the left of the data matrix.\n",
    "\n",
    "The feature matrix $X_{\\text{train}}$ contains the feature vectors for all the training examples. More precisely $X_{\\text{train}}= \\begin{pmatrix} 1 & 2 & 3 \\end{pmatrix} $ has one column for each training example and each column is the feature vector for that training example (in this case we have only one feature which is the $x$-coordinate).\n",
    "\n",
    "The labels matrix $y_{\\text{train}}$ contains the labels for all the training examples. More precisely $y_{\\text{train}} = \\begin{pmatrix} 1 & 4 & 5\\end{pmatrix}$ has one column for each training example and each column contains the label for that training example (the $y$-coordinate).\n",
    "\n",
    "The model here is a simple linear model\n",
    "\n",
    "$$\n",
    "\\hat y = mx +c\n",
    "$$\n",
    "\n",
    "with trainable parameters $m$ and $c$. The goal is to find the optimal values of $m$ and $c$ to fit these training data. In the Machine Learning context this means defining a loss function between prediction and true label:\n",
    "\n",
    "$$\n",
    "L(\\hat y, y)=(\\hat y - y)^2\n",
    "$$\n",
    "\n",
    "and a cost function which is simply the average on all training examples of these losses.\n",
    "\n",
    "**Specifically, you should**\n",
    "\n",
    "1. Show, in a markdown cell, how the cost $J$ depends only on the trainable parameters $m$ and $c$, and can be computed to be:\n",
    "$$ J=\\displaystyle\\frac{14m^2+12cm-48m+3c^2-20c+42}{3}$$\n",
    "\n",
    "2. Find, in a markdown cell, expressions for the partial derivatives $\\displaystyle\\frac{\\partial J}{\\partial m}$ and $\\displaystyle\\frac{\\partial J}{\\partial c}$.\n",
    "3. Write a function `model1(alpha, num_iterations)` which takes as inputs a  learning rate `alpha` and a number of iterations `num_iterations`, and returns optimized values of $m$ and $c$ through Gradient Descent. More precisely the function should initialize $m$ and $c$ randomly between $-2$ and $2$ and then perform `num_iterations` steps of gradient descent with learning rate `alpha`. This means that the value of $m$ is updated to $m - \\displaystyle\\frac{\\partial J}{\\partial m}\\alpha$ and the value of $c$ is updated to $c - \\displaystyle\\frac{\\partial J}{\\partial c}\\alpha$ in each iteration.\n",
    "Your function should print the cost $J$ periodically throughout the iteration process. You may wish to refer to the Machine learning project lecture for help with this. You may wish to build helper functions for the various tasks you need this function to do and refer to them.\n",
    "4. Plot the 3 datapoints along with the optimal line $mx+c$ your model has found.\n",
    "5. Explore the effect of changing the learning rate and the number of iterations.\n",
    "\n",
    "*Insert code and markdown cells here in which to answer this task*"
   ]
  },
  {
   "cell_type": "markdown",
   "id": "f9a35162-865e-4325-bd3d-3efb13da5e49",
   "metadata": {},
   "source": [
    "#### 1)\n",
    "Let J denote the cost, then: \n",
    "$$ J=\\displaystyle\\frac{L(\\hat y_1, 1)+L(\\hat y_2, 4)+L(\\hat y_3, 5)}{3} $$\n",
    "\n",
    "$$ J=\\displaystyle\\frac{(\\hat y_1-1)^2+(\\hat y_2-4)^2+(\\hat y_3-5)^2}{3} $$\n",
    "\n",
    "given $ \\hat y_1=m+c, \\hat y_2=2m+c,$ and $ \\hat y_3=3m+c $ we can rewrite this as:\n",
    "\n",
    "$$ J=\\displaystyle\\frac{(m+c-1)^2+(2m+c-4)^2+(3m+c-5)^2}{3} $$\n",
    "\n",
    "$$J=\\displaystyle\\frac{(m^2+c^2+2cm-2m-2c+1)+(4m^2+c^2+4cm-16m-8m+16)+(9m^2+c^2+6cm-30m-10c+25)}{3}$$\n",
    "\n",
    "$$ J=\\displaystyle\\frac{14m^2+12cm-48m+3c^2-20c+42}{3} $$\n",
    "\n",
    "Hence J depends only on $m$ and $c$.\n",
    "\n",
    "___"
   ]
  },
  {
   "cell_type": "markdown",
   "id": "2930cd9d-6fb6-4b45-a07f-accfeb24fc1a",
   "metadata": {},
   "source": [
    "#### 2)\n",
    "Taking the partial derivative of $J$ with respect to $m$, we get:\n",
    "\n",
    "$$\\displaystyle\\frac{\\partial J}{\\partial m} = \\displaystyle\\frac{28m+12c-48}{3}$$\n",
    "\n",
    "and taking the partial derivative of $J$ with respect to $c$, we find:\n",
    "\n",
    "$$\\displaystyle\\frac{\\partial J}{\\partial c} = \\displaystyle\\frac{12m+6c-48}{3}$$"
   ]
  },
  {
   "cell_type": "code",
   "execution_count": 1,
   "id": "83efd0a6-6b8f-40d7-8284-100f245991eb",
   "metadata": {},
   "outputs": [
    {
     "name": "stdout",
     "output_type": "stream",
     "text": [
      "Cost after iteration 0: 3.315736\n",
      "Cost after iteration 500: 0.222222\n",
      "Cost after iteration 1000: 0.222222\n",
      "Cost after iteration 1500: 0.222222\n",
      "Cost after iteration 2000: 0.222222\n",
      "Cost after iteration 2500: 0.222222\n",
      "Cost after iteration 3000: 0.222222\n",
      "Cost after iteration 3500: 0.222222\n",
      "Cost after iteration 4000: 0.222222\n",
      "Cost after iteration 4500: 0.222222\n",
      "Cost after iteration 5000: 0.222222\n",
      "Cost after iteration 5500: 0.222222\n",
      "Cost after iteration 6000: 0.222222\n",
      "Cost after iteration 6500: 0.222222\n",
      "Cost after iteration 7000: 0.222222\n",
      "Cost after iteration 7500: 0.222222\n",
      "Cost after iteration 8000: 0.222222\n",
      "Cost after iteration 8500: 0.222222\n",
      "Cost after iteration 9000: 0.222222\n",
      "Cost after iteration 9500: 0.222222\n"
     ]
    },
    {
     "data": {
      "image/png": "[encoded data removed]",
      "text/plain": [
       "<Figure size 640x480 with 1 Axes>"
      ]
     },
     "metadata": {},
     "output_type": "display_data"
    }
   ],
   "source": [
    "import numpy as np\n",
    "import matplotlib.pyplot as plt\n",
    "import pandas as pd\n",
    "import copy\n",
    "\n",
    "def model1(alpha, num_iterations):\n",
    "    \"\"\"\n",
    "    Arguments:\n",
    "    alpha -- float, learning rate\n",
    "    num_iterations -- integer, number of iterations in gradient descent loop\n",
    "    \n",
    "    Returns:\n",
    "    m,c -- tuple, containg optimised m,c as found by gradient descent\n",
    "    \"\"\"\n",
    "    # Randomly choose inital values for m and c\n",
    "    m,c = np.random.uniform(-2,2,2)\n",
    "    \n",
    "    for i in range(num_iterations):\n",
    "    \n",
    "        # Update m & c\n",
    "        new_m = m -((1/3)*(28*m + 12*c - 48))*alpha \n",
    "        new_c = c -((1/3)*(12*m + 6*c - 20))*alpha\n",
    "        \n",
    "        # Calculate cost\n",
    "        J = (1/3)*(14*m**2 + 12*c*m - 48*m + 3*c**2 -20*c + 42)\n",
    "        \n",
    "        # Periodically print cost every 500 iterations\n",
    "        if i % 500 == 0:\n",
    "            print(\"Cost after iteration %i: %f\" %(i, J))\n",
    "        \n",
    "        # Reassign m & c for next iteration\n",
    "        m, c = new_m, new_c\n",
    "    \n",
    "    # Return optimised m & c\n",
    "    return m, c\n",
    "\n",
    "m,c = model1(0.15, 10000)\n",
    "\n",
    "# Generating points for line, with m & c found through gradient descent\n",
    "x = np.linspace(0,5,2)\n",
    "y = m*x + c\n",
    "\n",
    "# Plotting data points against line and producing a graph\n",
    "plt.plot(x,y)\n",
    "plt.title(\"Line generated through gradient descent:\")\n",
    "plt.xlabel(\"x\")\n",
    "plt.ylabel(\"y\")\n",
    "plt.scatter(1,1)\n",
    "plt.scatter(2,4)\n",
    "plt.scatter(3,5)\n",
    "plt.show()"
   ]
  },
  {
   "cell_type": "markdown",
   "id": "f5432397-0ec3-46a4-a791-ace2c686b442",
   "metadata": {},
   "source": [
    "Investigating the effect of varying learning rate $\\alpha$ and number of iterations:\n",
    "\n",
    "For $\\alpha > 0.19$, the cost would fail to converge and rapidly increase and above 3500 iterations the programme was unable to represent the value of the cost $J$. For $ 0.01 < \\alpha < 0.19 $ $J$ would converge to $0.222222$ within 3000 iterations returning optimised values of $m \\approx 2,c \\approx -2/3$. \n",
    "\n",
    "$\\alpha \\approx 0.15$ gave the fastest rate of convergence, converging after just over 200 iterations."
   ]
  }
 ],
 "metadata": {
  "kernelspec": {
   "display_name": "Python 3 (ipykernel)",
   "language": "python",
   "name": "python3"
  },
  "language_info": {
   "codemirror_mode": {
    "name": "ipython",
    "version": 3
   },
   "file_extension": ".py",
   "mimetype": "text/x-python",
   "name": "python",
   "nbconvert_exporter": "python",
   "pygments_lexer": "ipython3",
   "version": "3.11.5"
  }
 },
 "nbformat": 4,
 "nbformat_minor": 5
}
